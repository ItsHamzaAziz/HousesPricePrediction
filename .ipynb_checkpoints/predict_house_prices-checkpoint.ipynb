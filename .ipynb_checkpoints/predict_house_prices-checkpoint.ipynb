{
 "cells": [
  {
   "cell_type": "markdown",
   "id": "79fbbc52-73c7-4514-aed4-2884d7e2c221",
   "metadata": {},
   "source": [
    "<h1 style='text-align:center;'>Importing Libraries</h1>"
   ]
  },
  {
   "cell_type": "code",
   "execution_count": 1,
   "id": "5b2f29c0-6806-41cc-b873-bc636639bd86",
   "metadata": {},
   "outputs": [],
   "source": [
    "import pandas as pd\n",
    "import numpy as np\n",
    "import matplotlib.pyplot as plt"
   ]
  },
  {
   "cell_type": "code",
   "execution_count": 2,
   "id": "14cd29f2-0e0e-4561-b8fc-f20d17b1bdc3",
   "metadata": {},
   "outputs": [],
   "source": [
    "import warnings\n",
    "warnings.filterwarnings('ignore')   # So that all warnings are ignored and our notebook is clean"
   ]
  },
  {
   "cell_type": "markdown",
   "id": "8007d210-6cdb-4e8d-ab5c-ca95fbdaaaa5",
   "metadata": {},
   "source": [
    "***"
   ]
  },
  {
   "cell_type": "markdown",
   "id": "1048bee4-ddbc-44c3-94fe-c3b4772f57c1",
   "metadata": {},
   "source": [
    "<h1 style='text-align:center;'>Reading CSV file</h1>"
   ]
  },
  {
   "cell_type": "code",
   "execution_count": 3,
   "id": "e9c29888-6187-4561-8e70-ff9e921796f3",
   "metadata": {},
   "outputs": [
    {
     "data": {
      "text/html": [
       "<div>\n",
       "<style scoped>\n",
       "    .dataframe tbody tr th:only-of-type {\n",
       "        vertical-align: middle;\n",
       "    }\n",
       "\n",
       "    .dataframe tbody tr th {\n",
       "        vertical-align: top;\n",
       "    }\n",
       "\n",
       "    .dataframe thead th {\n",
       "        text-align: right;\n",
       "    }\n",
       "</style>\n",
       "<table border=\"1\" class=\"dataframe\">\n",
       "  <thead>\n",
       "    <tr style=\"text-align: right;\">\n",
       "      <th></th>\n",
       "      <th>property_id</th>\n",
       "      <th>location_id</th>\n",
       "      <th>page_url</th>\n",
       "      <th>property_type</th>\n",
       "      <th>price</th>\n",
       "      <th>location</th>\n",
       "      <th>city</th>\n",
       "      <th>province_name</th>\n",
       "      <th>latitude</th>\n",
       "      <th>longitude</th>\n",
       "      <th>...</th>\n",
       "      <th>Unnamed: 21</th>\n",
       "      <th>Unnamed: 22</th>\n",
       "      <th>Unnamed: 23</th>\n",
       "      <th>Unnamed: 24</th>\n",
       "      <th>Unnamed: 25</th>\n",
       "      <th>Unnamed: 26</th>\n",
       "      <th>Unnamed: 27</th>\n",
       "      <th>Unnamed: 28</th>\n",
       "      <th>Unnamed: 29</th>\n",
       "      <th>Unnamed: 30</th>\n",
       "    </tr>\n",
       "  </thead>\n",
       "  <tbody>\n",
       "    <tr>\n",
       "      <th>0</th>\n",
       "      <td>347795</td>\n",
       "      <td>8</td>\n",
       "      <td>https://www.zameen.com/Property/lahore_model_t...</td>\n",
       "      <td>House</td>\n",
       "      <td>220000000</td>\n",
       "      <td>Model Town</td>\n",
       "      <td>Lahore</td>\n",
       "      <td>Punjab</td>\n",
       "      <td>31.483869</td>\n",
       "      <td>74.325686</td>\n",
       "      <td>...</td>\n",
       "      <td>NaN</td>\n",
       "      <td>NaN</td>\n",
       "      <td>NaN</td>\n",
       "      <td>NaN</td>\n",
       "      <td>NaN</td>\n",
       "      <td>NaN</td>\n",
       "      <td>NaN</td>\n",
       "      <td>NaN</td>\n",
       "      <td>NaN</td>\n",
       "      <td>NaN</td>\n",
       "    </tr>\n",
       "    <tr>\n",
       "      <th>1</th>\n",
       "      <td>482892</td>\n",
       "      <td>48</td>\n",
       "      <td>https://www.zameen.com/Property/lahore_multan_...</td>\n",
       "      <td>House</td>\n",
       "      <td>40000000</td>\n",
       "      <td>Multan Road</td>\n",
       "      <td>Lahore</td>\n",
       "      <td>Punjab</td>\n",
       "      <td>31.431593</td>\n",
       "      <td>74.179980</td>\n",
       "      <td>...</td>\n",
       "      <td>NaN</td>\n",
       "      <td>NaN</td>\n",
       "      <td>NaN</td>\n",
       "      <td>NaN</td>\n",
       "      <td>NaN</td>\n",
       "      <td>NaN</td>\n",
       "      <td>NaN</td>\n",
       "      <td>NaN</td>\n",
       "      <td>NaN</td>\n",
       "      <td>NaN</td>\n",
       "    </tr>\n",
       "    <tr>\n",
       "      <th>2</th>\n",
       "      <td>555962</td>\n",
       "      <td>75</td>\n",
       "      <td>https://www.zameen.com/Property/eden_eden_aven...</td>\n",
       "      <td>House</td>\n",
       "      <td>9500000</td>\n",
       "      <td>Eden</td>\n",
       "      <td>Lahore</td>\n",
       "      <td>Punjab</td>\n",
       "      <td>31.499348</td>\n",
       "      <td>74.416959</td>\n",
       "      <td>...</td>\n",
       "      <td>NaN</td>\n",
       "      <td>NaN</td>\n",
       "      <td>NaN</td>\n",
       "      <td>NaN</td>\n",
       "      <td>NaN</td>\n",
       "      <td>NaN</td>\n",
       "      <td>NaN</td>\n",
       "      <td>NaN</td>\n",
       "      <td>NaN</td>\n",
       "      <td>NaN</td>\n",
       "    </tr>\n",
       "    <tr>\n",
       "      <th>3</th>\n",
       "      <td>562843</td>\n",
       "      <td>3821</td>\n",
       "      <td>https://www.zameen.com/Property/gulberg_2_gulb...</td>\n",
       "      <td>House</td>\n",
       "      <td>125000000</td>\n",
       "      <td>Gulberg</td>\n",
       "      <td>Lahore</td>\n",
       "      <td>Punjab</td>\n",
       "      <td>31.522069</td>\n",
       "      <td>74.355512</td>\n",
       "      <td>...</td>\n",
       "      <td>NaN</td>\n",
       "      <td>NaN</td>\n",
       "      <td>NaN</td>\n",
       "      <td>NaN</td>\n",
       "      <td>NaN</td>\n",
       "      <td>NaN</td>\n",
       "      <td>NaN</td>\n",
       "      <td>NaN</td>\n",
       "      <td>NaN</td>\n",
       "      <td>NaN</td>\n",
       "    </tr>\n",
       "    <tr>\n",
       "      <th>4</th>\n",
       "      <td>686990</td>\n",
       "      <td>3522</td>\n",
       "      <td>https://www.zameen.com/Property/allama_iqbal_t...</td>\n",
       "      <td>House</td>\n",
       "      <td>21000000</td>\n",
       "      <td>Allama Iqbal Town</td>\n",
       "      <td>Lahore</td>\n",
       "      <td>Punjab</td>\n",
       "      <td>31.506483</td>\n",
       "      <td>74.286017</td>\n",
       "      <td>...</td>\n",
       "      <td>NaN</td>\n",
       "      <td>NaN</td>\n",
       "      <td>NaN</td>\n",
       "      <td>NaN</td>\n",
       "      <td>NaN</td>\n",
       "      <td>NaN</td>\n",
       "      <td>NaN</td>\n",
       "      <td>NaN</td>\n",
       "      <td>NaN</td>\n",
       "      <td>NaN</td>\n",
       "    </tr>\n",
       "  </tbody>\n",
       "</table>\n",
       "<p>5 rows × 31 columns</p>\n",
       "</div>"
      ],
      "text/plain": [
       "   property_id  location_id  \\\n",
       "0       347795            8   \n",
       "1       482892           48   \n",
       "2       555962           75   \n",
       "3       562843         3821   \n",
       "4       686990         3522   \n",
       "\n",
       "                                            page_url property_type      price  \\\n",
       "0  https://www.zameen.com/Property/lahore_model_t...         House  220000000   \n",
       "1  https://www.zameen.com/Property/lahore_multan_...         House   40000000   \n",
       "2  https://www.zameen.com/Property/eden_eden_aven...         House    9500000   \n",
       "3  https://www.zameen.com/Property/gulberg_2_gulb...         House  125000000   \n",
       "4  https://www.zameen.com/Property/allama_iqbal_t...         House   21000000   \n",
       "\n",
       "            location    city province_name   latitude  longitude  ...  \\\n",
       "0         Model Town  Lahore        Punjab  31.483869  74.325686  ...   \n",
       "1        Multan Road  Lahore        Punjab  31.431593  74.179980  ...   \n",
       "2               Eden  Lahore        Punjab  31.499348  74.416959  ...   \n",
       "3            Gulberg  Lahore        Punjab  31.522069  74.355512  ...   \n",
       "4  Allama Iqbal Town  Lahore        Punjab  31.506483  74.286017  ...   \n",
       "\n",
       "   Unnamed: 21 Unnamed: 22 Unnamed: 23  Unnamed: 24 Unnamed: 25 Unnamed: 26  \\\n",
       "0          NaN         NaN         NaN          NaN         NaN         NaN   \n",
       "1          NaN         NaN         NaN          NaN         NaN         NaN   \n",
       "2          NaN         NaN         NaN          NaN         NaN         NaN   \n",
       "3          NaN         NaN         NaN          NaN         NaN         NaN   \n",
       "4          NaN         NaN         NaN          NaN         NaN         NaN   \n",
       "\n",
       "  Unnamed: 27 Unnamed: 28 Unnamed: 29 Unnamed: 30  \n",
       "0         NaN         NaN         NaN         NaN  \n",
       "1         NaN         NaN         NaN         NaN  \n",
       "2         NaN         NaN         NaN         NaN  \n",
       "3         NaN         NaN         NaN         NaN  \n",
       "4         NaN         NaN         NaN         NaN  \n",
       "\n",
       "[5 rows x 31 columns]"
      ]
     },
     "execution_count": 3,
     "metadata": {},
     "output_type": "execute_result"
    }
   ],
   "source": [
    "df = pd.read_csv('Property.csv')\n",
    "df.head()"
   ]
  },
  {
   "cell_type": "code",
   "execution_count": 4,
   "id": "24fa5b0e-99a3-4539-8996-f3712006ba52",
   "metadata": {},
   "outputs": [
    {
     "data": {
      "text/plain": [
       "(190904, 31)"
      ]
     },
     "execution_count": 4,
     "metadata": {},
     "output_type": "execute_result"
    }
   ],
   "source": [
    "df.shape"
   ]
  },
  {
   "cell_type": "markdown",
   "id": "2cfa55eb-d06b-412e-b659-1b96ecd00a8f",
   "metadata": {},
   "source": [
    "***"
   ]
  },
  {
   "cell_type": "markdown",
   "id": "486885a4-721d-4ef5-ade8-db7d9192858d",
   "metadata": {},
   "source": [
    "<h1 style='text-align:center;'>Dataframe for houses of Lahore</h1>"
   ]
  },
  {
   "cell_type": "code",
   "execution_count": 5,
   "id": "da7fdc42-594a-4678-8f94-04c1ae980b4f",
   "metadata": {},
   "outputs": [
    {
     "data": {
      "text/plain": [
       "(49328, 31)"
      ]
     },
     "execution_count": 5,
     "metadata": {},
     "output_type": "execute_result"
    }
   ],
   "source": [
    "df_lahore = df[(df['city'] == 'Lahore') & (df['property_type'] == 'House')]\n",
    "df_lahore.shape"
   ]
  },
  {
   "cell_type": "markdown",
   "id": "77a1b96d-f144-4458-88ae-309d8a3c354c",
   "metadata": {},
   "source": [
    "We only need location, area, baths, bedrooms and price columns for our project. Hence we select only these"
   ]
  },
  {
   "cell_type": "code",
   "execution_count": 6,
   "id": "e6af00b2-150a-427d-ade1-b88e03abaea9",
   "metadata": {},
   "outputs": [
    {
     "data": {
      "text/html": [
       "<div>\n",
       "<style scoped>\n",
       "    .dataframe tbody tr th:only-of-type {\n",
       "        vertical-align: middle;\n",
       "    }\n",
       "\n",
       "    .dataframe tbody tr th {\n",
       "        vertical-align: top;\n",
       "    }\n",
       "\n",
       "    .dataframe thead th {\n",
       "        text-align: right;\n",
       "    }\n",
       "</style>\n",
       "<table border=\"1\" class=\"dataframe\">\n",
       "  <thead>\n",
       "    <tr style=\"text-align: right;\">\n",
       "      <th></th>\n",
       "      <th>location</th>\n",
       "      <th>area</th>\n",
       "      <th>baths</th>\n",
       "      <th>bedrooms</th>\n",
       "      <th>price</th>\n",
       "    </tr>\n",
       "  </thead>\n",
       "  <tbody>\n",
       "    <tr>\n",
       "      <th>0</th>\n",
       "      <td>Model Town</td>\n",
       "      <td>6 Kanal</td>\n",
       "      <td>0.0</td>\n",
       "      <td>0.0</td>\n",
       "      <td>220000000</td>\n",
       "    </tr>\n",
       "    <tr>\n",
       "      <th>1</th>\n",
       "      <td>Multan Road</td>\n",
       "      <td>1 Kanal</td>\n",
       "      <td>5.0</td>\n",
       "      <td>5.0</td>\n",
       "      <td>40000000</td>\n",
       "    </tr>\n",
       "    <tr>\n",
       "      <th>2</th>\n",
       "      <td>Eden</td>\n",
       "      <td>9 Marla</td>\n",
       "      <td>0.0</td>\n",
       "      <td>3.0</td>\n",
       "      <td>9500000</td>\n",
       "    </tr>\n",
       "    <tr>\n",
       "      <th>3</th>\n",
       "      <td>Gulberg</td>\n",
       "      <td>1 Kanal</td>\n",
       "      <td>7.0</td>\n",
       "      <td>8.0</td>\n",
       "      <td>125000000</td>\n",
       "    </tr>\n",
       "    <tr>\n",
       "      <th>4</th>\n",
       "      <td>Allama Iqbal Town</td>\n",
       "      <td>11 Marla</td>\n",
       "      <td>5.0</td>\n",
       "      <td>6.0</td>\n",
       "      <td>21000000</td>\n",
       "    </tr>\n",
       "  </tbody>\n",
       "</table>\n",
       "</div>"
      ],
      "text/plain": [
       "            location      area  baths  bedrooms      price\n",
       "0         Model Town   6 Kanal    0.0       0.0  220000000\n",
       "1        Multan Road   1 Kanal    5.0       5.0   40000000\n",
       "2               Eden   9 Marla    0.0       3.0    9500000\n",
       "3            Gulberg   1 Kanal    7.0       8.0  125000000\n",
       "4  Allama Iqbal Town  11 Marla    5.0       6.0   21000000"
      ]
     },
     "execution_count": 6,
     "metadata": {},
     "output_type": "execute_result"
    }
   ],
   "source": [
    "df_lahore_1 = df_lahore[['location', 'area', 'baths', 'bedrooms', 'price']]\n",
    "df_lahore_1.head()"
   ]
  },
  {
   "cell_type": "markdown",
   "id": "cdc14959-7b63-40ea-8d5b-1b67fb9b7061",
   "metadata": {},
   "source": [
    "***"
   ]
  },
  {
   "cell_type": "markdown",
   "id": "576a43b8-ef3e-4123-9675-f9d58d387ac3",
   "metadata": {},
   "source": [
    "<h1 style='text-align:center;'>Data Cleaning</h1>"
   ]
  },
  {
   "cell_type": "code",
   "execution_count": 7,
   "id": "32f0ad65-daac-48fe-9955-5976a9ff5b26",
   "metadata": {
    "scrolled": true
   },
   "outputs": [
    {
     "data": {
      "text/plain": [
       "array(['6 Kanal', '1 Kanal', '9 Marla', '11 Marla', '8 Marla',\n",
       "       '1.6 Kanal', '7.5 Marla', '1.2 Kanal', '5 Marla', '10 Marla',\n",
       "       '18 Marla', '12 Marla', '3 Marla', '6.5 Kanal', '2.5 Marla',\n",
       "       '2 Kanal', '8 Kanal', '1.1 Kanal', '6 Marla', '4.7 Kanal',\n",
       "       '9.7 Marla', '17 Marla', '4 Marla', '14 Marla', '5.5 Marla',\n",
       "       '2 Marla', '8.2 Marla', '10 Kanal', '4 Kanal', '7 Marla',\n",
       "       '4.4 Kanal', '15 Marla', '1.7 Kanal', '5 Kanal', '13 Marla',\n",
       "       '1.5 Kanal', '1.4 Kanal', '1.3 Kanal', '4.3 Marla', '2.2 Kanal',\n",
       "       '4.5 Kanal', '3.2 Kanal', '3 Kanal', '1.8 Kanal', '3.5 Marla',\n",
       "       '3.7 Marla', '6.5 Marla', '15.2 Marla', '1.5 Marla', '5.2 Marla',\n",
       "       '4.5 Marla', '7.3 Marla', '10.8 Marla', '2.7 Marla', '4.2 Marla',\n",
       "       '3.6 Marla', '4.4 Marla', '2.2 Marla', '17.8 Marla', '1.9 Kanal',\n",
       "       '6.7 Marla', '3.3 Marla', '3.9 Marla', '7 Kanal', '5.9 Marla',\n",
       "       '2.6 Kanal', '7.9 Marla', '5.1 Marla', '3.8 Marla', '6.2 Marla',\n",
       "       '16 Marla', '1.6 Marla', '2.1 Kanal', '8.5 Marla', '1 Marla',\n",
       "       '4.7 Marla', '10.5 Marla', '13.5 Marla', '2.1 Marla', '20 Marla',\n",
       "       '2.3 Kanal', '13.2 Marla', '6.4 Marla', '2.8 Marla', '5.8 Marla',\n",
       "       '5.3 Marla', '2.5 Kanal', '19 Marla', '9.5 Marla', '12.5 Marla',\n",
       "       '3.1 Marla', '2.3 Marla', '3.5 Kanal', '1.7 Marla', '2.7 Kanal',\n",
       "       '3.2 Marla', '1.8 Marla', '17.5 Marla', '5.4 Marla', '10.2 Marla',\n",
       "       '2.6 Marla', '7.2 Marla', '2.4 Kanal', '3.4 Marla', '7.1 Marla',\n",
       "       '6.3 Marla', '11.5 Marla', '6.6 Marla', '4.1 Marla', '12.7 Marla',\n",
       "       '32 Kanal', '8.9 Marla', '6.8 Marla', '9.2 Marla', '9.3 Marla',\n",
       "       '8.7 Marla', '5.7 Marla', '4.8 Marla', '6.4 Kanal', '12.1 Marla',\n",
       "       '2.4 Marla', '10.7 Marla', '8.8 Marla', '5.6 Marla', '9.4 Marla',\n",
       "       '8.4 Marla', '1.2 Marla', '14.5 Marla', '3.8 Kanal', '11.8 Marla',\n",
       "       '3.6 Kanal', '10.1 Marla', '8.6 Marla', '4.2 Kanal', '11.7 Marla',\n",
       "       '12.2 Marla', '15.6 Marla', '13.4 Marla', '6.9 Marla', '4.6 Marla',\n",
       "       '16.5 Marla', '6.1 Marla', '2.8 Kanal', '7.5 Kanal', '0 Marla',\n",
       "       '15.5 Marla', '8.5 Kanal', '19.1 Marla', '5.5 Kanal', '10.9 Marla',\n",
       "       '2.9 Marla', '8.3 Marla', '11 Kanal', '11.2 Marla', '7.7 Marla',\n",
       "       '4.1 Kanal', '11.6 Marla', '18.2 Marla', '10.3 Marla',\n",
       "       '13.9 Marla', '2.9 Kanal', '7.4 Marla', '15.4 Marla', '1.4 Marla',\n",
       "       '7.8 Marla', '9.6 Kanal', '3.3 Kanal', '7.6 Marla', '9 Kanal',\n",
       "       '13 Kanal', '4.3 Kanal', '26 Kanal', '4.6 Kanal', '13.3 Marla',\n",
       "       '4.8 Kanal', '20 Kanal', '1.3 Marla', '9.6 Marla', '10.4 Marla',\n",
       "       '19.2 Kanal', '5.4 Kanal', '90 Kanal', '3.9 Kanal', '4',\n",
       "       '16 Kanal', '25 Kanal', '85 Kanal', '30 Kanal', '23 Kanal',\n",
       "       '10.5 Kanal', '0.1 Marla', '1.1 Marla', '18.5 Marla', '14 Kanal',\n",
       "       '32.5 Kanal', '47.5 Kanal', '41 Kanal', '0.5 Marla', '28.8 Kanal',\n",
       "       '39.3 Kanal', '0.9 Marla', '3.1 Kanal', '11.1 Marla', '12 Kanal',\n",
       "       '19 Kanal', '3.7 Kanal', '14.2 Marla', '5.2 Kanal', '4.9 Marla',\n",
       "       '45 Kanal', '200 Kanal'], dtype=object)"
      ]
     },
     "execution_count": 7,
     "metadata": {},
     "output_type": "execute_result"
    }
   ],
   "source": [
    "df_lahore_1.area.unique()   # Checking unique values of each column for data cleaning"
   ]
  },
  {
   "cell_type": "markdown",
   "id": "c6805017-2965-47a9-bf5f-49251a648513",
   "metadata": {},
   "source": [
    "## 1. Seperate Area Column\n",
    "We can notice that area is in Marla and Kanal. We can area in Kanal to Marla so that we have a column whose values have one unit for area."
   ]
  },
  {
   "cell_type": "code",
   "execution_count": 8,
   "id": "6673ca94-35e7-4216-a90c-1fc2b087a5ce",
   "metadata": {},
   "outputs": [],
   "source": [
    "def convert_area_to_marla(area):\n",
    "    if 'Kanal' in area:\n",
    "        area_num = area.split(' ')[0]   # Taking first element of array (that is the quantity or number) \n",
    "        return round(float(area_num)*20, 2)   # Rounding the result to 2 decimal places\n",
    "    else:\n",
    "        return round(float(area.split(' ')[0]), 2)   # If the area was not in Kanal then it was in marla"
   ]
  },
  {
   "cell_type": "markdown",
   "id": "d1d1066f-bcf7-4487-b113-90a12b06b323",
   "metadata": {},
   "source": [
    "Now we create a seperate column which has area only in marla using function we defined above"
   ]
  },
  {
   "cell_type": "code",
   "execution_count": 9,
   "id": "f78a6948-a494-4e5b-9db4-456a2474220c",
   "metadata": {},
   "outputs": [
    {
     "data": {
      "text/html": [
       "<div>\n",
       "<style scoped>\n",
       "    .dataframe tbody tr th:only-of-type {\n",
       "        vertical-align: middle;\n",
       "    }\n",
       "\n",
       "    .dataframe tbody tr th {\n",
       "        vertical-align: top;\n",
       "    }\n",
       "\n",
       "    .dataframe thead th {\n",
       "        text-align: right;\n",
       "    }\n",
       "</style>\n",
       "<table border=\"1\" class=\"dataframe\">\n",
       "  <thead>\n",
       "    <tr style=\"text-align: right;\">\n",
       "      <th></th>\n",
       "      <th>location</th>\n",
       "      <th>area</th>\n",
       "      <th>baths</th>\n",
       "      <th>bedrooms</th>\n",
       "      <th>price</th>\n",
       "      <th>area_marla</th>\n",
       "    </tr>\n",
       "  </thead>\n",
       "  <tbody>\n",
       "    <tr>\n",
       "      <th>0</th>\n",
       "      <td>Model Town</td>\n",
       "      <td>6 Kanal</td>\n",
       "      <td>0.0</td>\n",
       "      <td>0.0</td>\n",
       "      <td>220000000</td>\n",
       "      <td>120.0</td>\n",
       "    </tr>\n",
       "    <tr>\n",
       "      <th>1</th>\n",
       "      <td>Multan Road</td>\n",
       "      <td>1 Kanal</td>\n",
       "      <td>5.0</td>\n",
       "      <td>5.0</td>\n",
       "      <td>40000000</td>\n",
       "      <td>20.0</td>\n",
       "    </tr>\n",
       "    <tr>\n",
       "      <th>2</th>\n",
       "      <td>Eden</td>\n",
       "      <td>9 Marla</td>\n",
       "      <td>0.0</td>\n",
       "      <td>3.0</td>\n",
       "      <td>9500000</td>\n",
       "      <td>9.0</td>\n",
       "    </tr>\n",
       "    <tr>\n",
       "      <th>3</th>\n",
       "      <td>Gulberg</td>\n",
       "      <td>1 Kanal</td>\n",
       "      <td>7.0</td>\n",
       "      <td>8.0</td>\n",
       "      <td>125000000</td>\n",
       "      <td>20.0</td>\n",
       "    </tr>\n",
       "    <tr>\n",
       "      <th>4</th>\n",
       "      <td>Allama Iqbal Town</td>\n",
       "      <td>11 Marla</td>\n",
       "      <td>5.0</td>\n",
       "      <td>6.0</td>\n",
       "      <td>21000000</td>\n",
       "      <td>11.0</td>\n",
       "    </tr>\n",
       "  </tbody>\n",
       "</table>\n",
       "</div>"
      ],
      "text/plain": [
       "            location      area  baths  bedrooms      price  area_marla\n",
       "0         Model Town   6 Kanal    0.0       0.0  220000000       120.0\n",
       "1        Multan Road   1 Kanal    5.0       5.0   40000000        20.0\n",
       "2               Eden   9 Marla    0.0       3.0    9500000         9.0\n",
       "3            Gulberg   1 Kanal    7.0       8.0  125000000        20.0\n",
       "4  Allama Iqbal Town  11 Marla    5.0       6.0   21000000        11.0"
      ]
     },
     "execution_count": 9,
     "metadata": {},
     "output_type": "execute_result"
    }
   ],
   "source": [
    "df_lahore_1['area_marla'] = df_lahore_1.area.apply(lambda x : convert_area_to_marla(x))\n",
    "df_lahore_1.head()"
   ]
  },
  {
   "cell_type": "markdown",
   "id": "d1006e99-9526-4310-aca3-ea167b45d491",
   "metadata": {},
   "source": [
    "***"
   ]
  },
  {
   "cell_type": "markdown",
   "id": "9783b8a1-9461-4993-a2de-f854109e088b",
   "metadata": {},
   "source": [
    "<h1 style='text-align:center;'>Outlier Removal</h1>"
   ]
  },
  {
   "cell_type": "markdown",
   "id": "14c033c6-83c0-427d-a452-5d013dc792b1",
   "metadata": {},
   "source": [
    "## 1. Baths, Bedrooms & Area\n",
    "While checking unique values of columns, it was noticed that some houses had 0 bedrooms or 0 baths or 0 area. This does not align with a basic house. Therefore we remove all such rows."
   ]
  },
  {
   "cell_type": "code",
   "execution_count": 10,
   "id": "95b21f21-64db-4d77-b02a-67ca6c8dbe67",
   "metadata": {},
   "outputs": [
    {
     "data": {
      "text/html": [
       "<div>\n",
       "<style scoped>\n",
       "    .dataframe tbody tr th:only-of-type {\n",
       "        vertical-align: middle;\n",
       "    }\n",
       "\n",
       "    .dataframe tbody tr th {\n",
       "        vertical-align: top;\n",
       "    }\n",
       "\n",
       "    .dataframe thead th {\n",
       "        text-align: right;\n",
       "    }\n",
       "</style>\n",
       "<table border=\"1\" class=\"dataframe\">\n",
       "  <thead>\n",
       "    <tr style=\"text-align: right;\">\n",
       "      <th></th>\n",
       "      <th>location</th>\n",
       "      <th>area</th>\n",
       "      <th>baths</th>\n",
       "      <th>bedrooms</th>\n",
       "      <th>price</th>\n",
       "      <th>area_marla</th>\n",
       "    </tr>\n",
       "  </thead>\n",
       "  <tbody>\n",
       "    <tr>\n",
       "      <th>1</th>\n",
       "      <td>Multan Road</td>\n",
       "      <td>1 Kanal</td>\n",
       "      <td>5.0</td>\n",
       "      <td>5.0</td>\n",
       "      <td>40000000</td>\n",
       "      <td>20.0</td>\n",
       "    </tr>\n",
       "    <tr>\n",
       "      <th>3</th>\n",
       "      <td>Gulberg</td>\n",
       "      <td>1 Kanal</td>\n",
       "      <td>7.0</td>\n",
       "      <td>8.0</td>\n",
       "      <td>125000000</td>\n",
       "      <td>20.0</td>\n",
       "    </tr>\n",
       "    <tr>\n",
       "      <th>4</th>\n",
       "      <td>Allama Iqbal Town</td>\n",
       "      <td>11 Marla</td>\n",
       "      <td>5.0</td>\n",
       "      <td>6.0</td>\n",
       "      <td>21000000</td>\n",
       "      <td>11.0</td>\n",
       "    </tr>\n",
       "    <tr>\n",
       "      <th>5</th>\n",
       "      <td>Gulberg</td>\n",
       "      <td>1 Kanal</td>\n",
       "      <td>6.0</td>\n",
       "      <td>5.0</td>\n",
       "      <td>52000000</td>\n",
       "      <td>20.0</td>\n",
       "    </tr>\n",
       "    <tr>\n",
       "      <th>6</th>\n",
       "      <td>Military Accounts Housing Society</td>\n",
       "      <td>8 Marla</td>\n",
       "      <td>7.0</td>\n",
       "      <td>6.0</td>\n",
       "      <td>16500000</td>\n",
       "      <td>8.0</td>\n",
       "    </tr>\n",
       "  </tbody>\n",
       "</table>\n",
       "</div>"
      ],
      "text/plain": [
       "                            location      area  baths  bedrooms      price  \\\n",
       "1                        Multan Road   1 Kanal    5.0       5.0   40000000   \n",
       "3                            Gulberg   1 Kanal    7.0       8.0  125000000   \n",
       "4                  Allama Iqbal Town  11 Marla    5.0       6.0   21000000   \n",
       "5                            Gulberg   1 Kanal    6.0       5.0   52000000   \n",
       "6  Military Accounts Housing Society   8 Marla    7.0       6.0   16500000   \n",
       "\n",
       "   area_marla  \n",
       "1        20.0  \n",
       "3        20.0  \n",
       "4        11.0  \n",
       "5        20.0  \n",
       "6         8.0  "
      ]
     },
     "execution_count": 10,
     "metadata": {},
     "output_type": "execute_result"
    }
   ],
   "source": [
    "df_lahore_2 = df_lahore_1[(df_lahore_1.baths != 0) & (df_lahore_1.bedrooms != 0) & (df_lahore_1.area_marla != 0)]\n",
    "df_lahore_2.head()"
   ]
  },
  {
   "cell_type": "markdown",
   "id": "362ed70f-4d71-437a-b5a3-e2f6c6fda4a1",
   "metadata": {},
   "source": [
    "## 2. Baths outlier\n",
    "There were some rows in which baths were more than bedrooms. In a house that is unordinary. Hence we create a situation in which if number of bedrooms plus 2 were greater than number of baths then the data will be accepted\n",
    "<br>For example if baths were 7 then bedrooms should be 5 or more. Otherwise the data will not suit considering a house"
   ]
  },
  {
   "cell_type": "code",
   "execution_count": 11,
   "id": "bee6dedb-1d01-462b-b02b-4b5a68c167bd",
   "metadata": {},
   "outputs": [
    {
     "data": {
      "text/plain": [
       "(40072, 6)"
      ]
     },
     "execution_count": 11,
     "metadata": {},
     "output_type": "execute_result"
    }
   ],
   "source": [
    "df_lahore_3 = df_lahore_2[(df_lahore_2.bedrooms+2) >= df_lahore_2.baths]\n",
    "df_lahore_3.shape"
   ]
  },
  {
   "cell_type": "markdown",
   "id": "c73cd84b-379d-45e3-9b2d-cdba6ee2cad9",
   "metadata": {},
   "source": [
    "## 3. Price Per Marla Column\n",
    "Creating a seperate column for price per marla so that we can detect more outliers"
   ]
  },
  {
   "cell_type": "code",
   "execution_count": 12,
   "id": "20818eae-62f3-4395-9627-88956494692c",
   "metadata": {},
   "outputs": [
    {
     "data": {
      "text/html": [
       "<div>\n",
       "<style scoped>\n",
       "    .dataframe tbody tr th:only-of-type {\n",
       "        vertical-align: middle;\n",
       "    }\n",
       "\n",
       "    .dataframe tbody tr th {\n",
       "        vertical-align: top;\n",
       "    }\n",
       "\n",
       "    .dataframe thead th {\n",
       "        text-align: right;\n",
       "    }\n",
       "</style>\n",
       "<table border=\"1\" class=\"dataframe\">\n",
       "  <thead>\n",
       "    <tr style=\"text-align: right;\">\n",
       "      <th></th>\n",
       "      <th>location</th>\n",
       "      <th>area</th>\n",
       "      <th>baths</th>\n",
       "      <th>bedrooms</th>\n",
       "      <th>price</th>\n",
       "      <th>area_marla</th>\n",
       "      <th>price_per_marla</th>\n",
       "    </tr>\n",
       "  </thead>\n",
       "  <tbody>\n",
       "    <tr>\n",
       "      <th>1</th>\n",
       "      <td>Multan Road</td>\n",
       "      <td>1 Kanal</td>\n",
       "      <td>5.0</td>\n",
       "      <td>5.0</td>\n",
       "      <td>40000000</td>\n",
       "      <td>20.0</td>\n",
       "      <td>2.000000e+06</td>\n",
       "    </tr>\n",
       "    <tr>\n",
       "      <th>3</th>\n",
       "      <td>Gulberg</td>\n",
       "      <td>1 Kanal</td>\n",
       "      <td>7.0</td>\n",
       "      <td>8.0</td>\n",
       "      <td>125000000</td>\n",
       "      <td>20.0</td>\n",
       "      <td>6.250000e+06</td>\n",
       "    </tr>\n",
       "    <tr>\n",
       "      <th>4</th>\n",
       "      <td>Allama Iqbal Town</td>\n",
       "      <td>11 Marla</td>\n",
       "      <td>5.0</td>\n",
       "      <td>6.0</td>\n",
       "      <td>21000000</td>\n",
       "      <td>11.0</td>\n",
       "      <td>1.909091e+06</td>\n",
       "    </tr>\n",
       "    <tr>\n",
       "      <th>5</th>\n",
       "      <td>Gulberg</td>\n",
       "      <td>1 Kanal</td>\n",
       "      <td>6.0</td>\n",
       "      <td>5.0</td>\n",
       "      <td>52000000</td>\n",
       "      <td>20.0</td>\n",
       "      <td>2.600000e+06</td>\n",
       "    </tr>\n",
       "    <tr>\n",
       "      <th>6</th>\n",
       "      <td>Military Accounts Housing Society</td>\n",
       "      <td>8 Marla</td>\n",
       "      <td>7.0</td>\n",
       "      <td>6.0</td>\n",
       "      <td>16500000</td>\n",
       "      <td>8.0</td>\n",
       "      <td>2.062500e+06</td>\n",
       "    </tr>\n",
       "  </tbody>\n",
       "</table>\n",
       "</div>"
      ],
      "text/plain": [
       "                            location      area  baths  bedrooms      price  \\\n",
       "1                        Multan Road   1 Kanal    5.0       5.0   40000000   \n",
       "3                            Gulberg   1 Kanal    7.0       8.0  125000000   \n",
       "4                  Allama Iqbal Town  11 Marla    5.0       6.0   21000000   \n",
       "5                            Gulberg   1 Kanal    6.0       5.0   52000000   \n",
       "6  Military Accounts Housing Society   8 Marla    7.0       6.0   16500000   \n",
       "\n",
       "   area_marla  price_per_marla  \n",
       "1        20.0     2.000000e+06  \n",
       "3        20.0     6.250000e+06  \n",
       "4        11.0     1.909091e+06  \n",
       "5        20.0     2.600000e+06  \n",
       "6         8.0     2.062500e+06  "
      ]
     },
     "execution_count": 12,
     "metadata": {},
     "output_type": "execute_result"
    }
   ],
   "source": [
    "df_lahore_3['price_per_marla'] = df_lahore_3.price / df_lahore_3.area_marla\n",
    "df_lahore_3.head()"
   ]
  },
  {
   "cell_type": "markdown",
   "id": "4b2e7038-92f8-48fa-9c2a-229cbe508d43",
   "metadata": {},
   "source": [
    "## 4. Bedrooms outlier which are less in count but more in price"
   ]
  },
  {
   "cell_type": "code",
   "execution_count": 13,
   "id": "46eb0dfa-f174-40b2-838e-dd0bf6fe7b48",
   "metadata": {},
   "outputs": [
    {
     "data": {
      "text/plain": [
       "<matplotlib.legend.Legend at 0x27b016a4fd0>"
      ]
     },
     "execution_count": 13,
     "metadata": {},
     "output_type": "execute_result"
    },
    {
     "data": {
      "image/png": "[encoded data removed]",
      "text/plain": [
       "<Figure size 640x480 with 1 Axes>"
      ]
     },
     "metadata": {},
     "output_type": "display_data"
    }
   ],
   "source": [
    "df2 = df_lahore_3[(df_lahore_3.location=='Model Town') & (df_lahore_3.bedrooms==2)]\n",
    "df3 = df_lahore_3[(df_lahore_3.location=='Model Town') & (df_lahore_3.bedrooms==3)]\n",
    "\n",
    "plt.scatter(df2.area_marla, df2.price_per_marla, label='2 bedrooms')\n",
    "plt.scatter(df3.area_marla, df3.price_per_marla, label='3 bedrooms')\n",
    "\n",
    "plt.legend()"
   ]
  },
  {
   "cell_type": "markdown",
   "id": "146e740e-83e2-4899-8fc3-2a524ad47016",
   "metadata": {},
   "source": [
    "We can notice here that some houses have 2 bedrooms but they have more price per marla than those houses with 3 bedrooms. Hence we need to remove these outliers.\n",
    "\n",
    "For this consider below example\n",
    "<br>Consider a scenario in which we have houses with 3 and 2 bedrooms. Now to remove outliers we can remove those houses with 3 bedrooms which have less price per marla than mean of price per marla of 2 bedrooms. We use this logic below to detect and remove such rows"
   ]
  },
  {
   "cell_type": "code",
   "execution_count": 14,
   "id": "dcfded25-1705-4340-bf4d-6fa52d9daf89",
   "metadata": {},
   "outputs": [
    {
     "data": {
      "text/plain": [
       "(26351, 7)"
      ]
     },
     "execution_count": 14,
     "metadata": {},
     "output_type": "execute_result"
    }
   ],
   "source": [
    "def remove_bedrooms_outlier(df):\n",
    "    exclude_indices = np.array([])\n",
    "    \n",
    "    for location, location_df in df.groupby('location'):\n",
    "        bedroom_stats = {}\n",
    "        for bedrooms, bedrooms_df in location_df.groupby('bedrooms'):\n",
    "            bedroom_stats[bedrooms] = {\n",
    "                'mean' : np.mean(bedrooms_df['price_per_marla']),\n",
    "            }\n",
    "        for bedrooms, bedrooms_df in location_df.groupby('bedrooms'):\n",
    "            stats = bedroom_stats.get(bedrooms-1)\n",
    "            if stats:\n",
    "                exclude_indices = np.append(exclude_indices,\n",
    "                                            bedrooms_df[bedrooms_df.price_per_marla < stats['mean']].index.values)\n",
    "\n",
    "    return df.drop(exclude_indices, axis='index')\n",
    "\n",
    "df_lahore_4 = remove_bedrooms_outlier(df_lahore_3)\n",
    "df_lahore_4.shape"
   ]
  },
  {
   "cell_type": "markdown",
   "id": "9170c1d0-28a5-43a5-b2f2-9a88a7df1d3c",
   "metadata": {},
   "source": [
    "## 5. Price Outliers"
   ]
  },
  {
   "cell_type": "code",
   "execution_count": 15,
   "id": "f7c3d823-251b-4492-88de-44c46cc0e69b",
   "metadata": {},
   "outputs": [
    {
     "data": {
      "text/plain": [
       "count    2.635100e+04\n",
       "mean     2.434997e+06\n",
       "std      5.943269e+06\n",
       "min      9.500000e+02\n",
       "25%      1.950000e+06\n",
       "50%      2.300000e+06\n",
       "75%      2.700000e+06\n",
       "max      8.250000e+08\n",
       "Name: price_per_marla, dtype: float64"
      ]
     },
     "execution_count": 15,
     "metadata": {},
     "output_type": "execute_result"
    }
   ],
   "source": [
    "df_lahore_4.price_per_marla.describe()"
   ]
  },
  {
   "cell_type": "markdown",
   "id": "0297bc26-3c0e-4739-bf0c-61a1d657c93f",
   "metadata": {},
   "source": [
    "Now we will use 3 standard deviation to remove price per marla outliers since in normal distribution more than 99 percent data lies in this range.\n",
    "<br>For this we have to check price per marla for each specific location because prices differ from location to location"
   ]
  },
  {
   "cell_type": "code",
   "execution_count": 16,
   "id": "8e9683e4-4e8c-4d2c-b56a-36aefd869252",
   "metadata": {},
   "outputs": [],
   "source": [
    "def remove_price_outlier(df):\n",
    "    exclude_indices = np.array([])\n",
    "    for location, location_df in df.groupby('location'):\n",
    "        mean = np.mean(location_df.price_per_marla)\n",
    "        std = np.std(location_df.price_per_marla)\n",
    "        exclude_indices = np.append(exclude_indices,\n",
    "                                   location_df[(location_df.price_per_marla > (mean + 3*std)) | (location_df.price_per_marla < (mean - 3*std))].index.values)\n",
    "\n",
    "    return df.drop(exclude_indices, axis='index')    "
   ]
  },
  {
   "cell_type": "code",
   "execution_count": 17,
   "id": "0740bcfd-838d-46c1-8854-5f3fe8db45bf",
   "metadata": {},
   "outputs": [
    {
     "data": {
      "text/plain": [
       "(26116, 7)"
      ]
     },
     "execution_count": 17,
     "metadata": {},
     "output_type": "execute_result"
    }
   ],
   "source": [
    "df_lahore_5 = remove_price_outlier(df_lahore_4)\n",
    "df_lahore_5.shape"
   ]
  },
  {
   "cell_type": "markdown",
   "id": "fc65c8c9-d427-44cd-90f0-8eeb77c9cf0d",
   "metadata": {},
   "source": [
    "This shape shows that some rows were removed"
   ]
  },
  {
   "cell_type": "markdown",
   "id": "1c64b8ea-37dc-46da-8dbe-61c236c32c2b",
   "metadata": {},
   "source": [
    "***"
   ]
  },
  {
   "cell_type": "markdown",
   "id": "433937c9-f7a6-4ca0-927e-129e96faf80c",
   "metadata": {},
   "source": [
    "<h1 style='text-align:center;'>One Hot Encoding</h1>"
   ]
  },
  {
   "cell_type": "markdown",
   "id": "e3a0a175-d5d8-4543-ab1b-c7917af831c7",
   "metadata": {},
   "source": [
    "## 1. Reducing number of locations"
   ]
  },
  {
   "cell_type": "code",
   "execution_count": 18,
   "id": "2ac73caf-42cb-42df-910b-083b8982d64c",
   "metadata": {},
   "outputs": [
    {
     "data": {
      "text/plain": [
       "593"
      ]
     },
     "execution_count": 18,
     "metadata": {},
     "output_type": "execute_result"
    }
   ],
   "source": [
    "df_lahore_5.location.nunique()"
   ]
  },
  {
   "cell_type": "markdown",
   "id": "c18120b1-72b3-4d27-a536-b3ea15c42d11",
   "metadata": {},
   "source": [
    "If we create dummies for each of these locations then we will end up with so many columns which is not considered a good technique. Therefore we look at count of each location now"
   ]
  },
  {
   "cell_type": "code",
   "execution_count": 19,
   "id": "ef26c5ca-70ee-4b22-9c42-fbb1ea5c06e0",
   "metadata": {},
   "outputs": [
    {
     "data": {
      "text/plain": [
       "location\n",
       "DHA Defence                   4717\n",
       "Bahria Town                   3824\n",
       "Johar Town                    1313\n",
       "State Life Housing Society     555\n",
       "Wapda Town                     549\n",
       "                              ... \n",
       "Prem Nagar                       1\n",
       "Shahtaj Colony                   1\n",
       "Gulzar E Ahbab Society           1\n",
       "Shaheen Park                     1\n",
       "Jati Umra Road                   1\n",
       "Name: location, Length: 593, dtype: int64"
      ]
     },
     "execution_count": 19,
     "metadata": {},
     "output_type": "execute_result"
    }
   ],
   "source": [
    "loc_stats = df_lahore_5.groupby('location')['location'].agg('count').sort_values(ascending=False)\n",
    "loc_stats"
   ]
  },
  {
   "cell_type": "code",
   "execution_count": 20,
   "id": "0b63ed82-5256-4094-ba86-e0f67850906c",
   "metadata": {},
   "outputs": [
    {
     "data": {
      "text/plain": [
       "location\n",
       "Venus Housing Scheme                                        10\n",
       "Lawrence Road                                               10\n",
       "Islamia Park                                                10\n",
       "Government Employees Cooperative Housing Society (GECHS)    10\n",
       "Rehan Garden                                                10\n",
       "                                                            ..\n",
       "Prem Nagar                                                   1\n",
       "Shahtaj Colony                                               1\n",
       "Gulzar E Ahbab Society                                       1\n",
       "Shaheen Park                                                 1\n",
       "Jati Umra Road                                               1\n",
       "Name: location, Length: 392, dtype: int64"
      ]
     },
     "execution_count": 20,
     "metadata": {},
     "output_type": "execute_result"
    }
   ],
   "source": [
    "loc_stats[loc_stats <= 10]"
   ]
  },
  {
   "cell_type": "markdown",
   "id": "a6be0831-d5ab-495d-a871-0e1d94f298b2",
   "metadata": {},
   "source": [
    "We can consider those locations which are less than or equal to 10 as others. This will reduce number of locations and we will have lesser columns in the end"
   ]
  },
  {
   "cell_type": "code",
   "execution_count": 21,
   "id": "ad3be91e-1a6c-4d79-9947-9959c79dfcbb",
   "metadata": {},
   "outputs": [],
   "source": [
    "df_lahore_6 = df_lahore_5.copy()\n",
    "df_lahore_6['location'] = df_lahore_5.location.apply(lambda x : 'Other' if x in loc_stats[loc_stats <= 10] else x)"
   ]
  },
  {
   "cell_type": "code",
   "execution_count": 22,
   "id": "37855c1b-e7ae-405c-a7c5-22fbc8f8e4c1",
   "metadata": {},
   "outputs": [
    {
     "data": {
      "text/html": [
       "<div>\n",
       "<style scoped>\n",
       "    .dataframe tbody tr th:only-of-type {\n",
       "        vertical-align: middle;\n",
       "    }\n",
       "\n",
       "    .dataframe tbody tr th {\n",
       "        vertical-align: top;\n",
       "    }\n",
       "\n",
       "    .dataframe thead th {\n",
       "        text-align: right;\n",
       "    }\n",
       "</style>\n",
       "<table border=\"1\" class=\"dataframe\">\n",
       "  <thead>\n",
       "    <tr style=\"text-align: right;\">\n",
       "      <th></th>\n",
       "      <th>location</th>\n",
       "      <th>area</th>\n",
       "      <th>baths</th>\n",
       "      <th>bedrooms</th>\n",
       "      <th>price</th>\n",
       "      <th>area_marla</th>\n",
       "      <th>price_per_marla</th>\n",
       "    </tr>\n",
       "  </thead>\n",
       "  <tbody>\n",
       "    <tr>\n",
       "      <th>17</th>\n",
       "      <td>Other</td>\n",
       "      <td>18 Marla</td>\n",
       "      <td>7.0</td>\n",
       "      <td>6.0</td>\n",
       "      <td>50000000</td>\n",
       "      <td>18.0</td>\n",
       "      <td>2.777778e+06</td>\n",
       "    </tr>\n",
       "    <tr>\n",
       "      <th>20</th>\n",
       "      <td>Other</td>\n",
       "      <td>11 Marla</td>\n",
       "      <td>3.0</td>\n",
       "      <td>6.0</td>\n",
       "      <td>40000000</td>\n",
       "      <td>11.0</td>\n",
       "      <td>3.636364e+06</td>\n",
       "    </tr>\n",
       "    <tr>\n",
       "      <th>34</th>\n",
       "      <td>Other</td>\n",
       "      <td>6.5 Kanal</td>\n",
       "      <td>8.0</td>\n",
       "      <td>8.0</td>\n",
       "      <td>620000000</td>\n",
       "      <td>130.0</td>\n",
       "      <td>4.769231e+06</td>\n",
       "    </tr>\n",
       "    <tr>\n",
       "      <th>35</th>\n",
       "      <td>Other</td>\n",
       "      <td>2.5 Marla</td>\n",
       "      <td>3.0</td>\n",
       "      <td>3.0</td>\n",
       "      <td>5500000</td>\n",
       "      <td>2.5</td>\n",
       "      <td>2.200000e+06</td>\n",
       "    </tr>\n",
       "    <tr>\n",
       "      <th>42</th>\n",
       "      <td>Other</td>\n",
       "      <td>6 Marla</td>\n",
       "      <td>5.0</td>\n",
       "      <td>5.0</td>\n",
       "      <td>12000000</td>\n",
       "      <td>6.0</td>\n",
       "      <td>2.000000e+06</td>\n",
       "    </tr>\n",
       "    <tr>\n",
       "      <th>...</th>\n",
       "      <td>...</td>\n",
       "      <td>...</td>\n",
       "      <td>...</td>\n",
       "      <td>...</td>\n",
       "      <td>...</td>\n",
       "      <td>...</td>\n",
       "      <td>...</td>\n",
       "    </tr>\n",
       "    <tr>\n",
       "      <th>187856</th>\n",
       "      <td>Other</td>\n",
       "      <td>3 Marla</td>\n",
       "      <td>3.0</td>\n",
       "      <td>3.0</td>\n",
       "      <td>2700000</td>\n",
       "      <td>3.0</td>\n",
       "      <td>9.000000e+05</td>\n",
       "    </tr>\n",
       "    <tr>\n",
       "      <th>189108</th>\n",
       "      <td>Other</td>\n",
       "      <td>3 Marla</td>\n",
       "      <td>2.0</td>\n",
       "      <td>2.0</td>\n",
       "      <td>14000</td>\n",
       "      <td>3.0</td>\n",
       "      <td>4.666667e+03</td>\n",
       "    </tr>\n",
       "    <tr>\n",
       "      <th>189288</th>\n",
       "      <td>Other</td>\n",
       "      <td>3 Marla</td>\n",
       "      <td>2.0</td>\n",
       "      <td>2.0</td>\n",
       "      <td>12000</td>\n",
       "      <td>3.0</td>\n",
       "      <td>4.000000e+03</td>\n",
       "    </tr>\n",
       "    <tr>\n",
       "      <th>189643</th>\n",
       "      <td>Other</td>\n",
       "      <td>5 Marla</td>\n",
       "      <td>5.0</td>\n",
       "      <td>4.0</td>\n",
       "      <td>14500000</td>\n",
       "      <td>5.0</td>\n",
       "      <td>2.900000e+06</td>\n",
       "    </tr>\n",
       "    <tr>\n",
       "      <th>189976</th>\n",
       "      <td>Other</td>\n",
       "      <td>5 Marla</td>\n",
       "      <td>4.0</td>\n",
       "      <td>3.0</td>\n",
       "      <td>37000</td>\n",
       "      <td>5.0</td>\n",
       "      <td>7.400000e+03</td>\n",
       "    </tr>\n",
       "  </tbody>\n",
       "</table>\n",
       "<p>1388 rows × 7 columns</p>\n",
       "</div>"
      ],
      "text/plain": [
       "       location       area  baths  bedrooms      price  area_marla  \\\n",
       "17        Other   18 Marla    7.0       6.0   50000000        18.0   \n",
       "20        Other   11 Marla    3.0       6.0   40000000        11.0   \n",
       "34        Other  6.5 Kanal    8.0       8.0  620000000       130.0   \n",
       "35        Other  2.5 Marla    3.0       3.0    5500000         2.5   \n",
       "42        Other    6 Marla    5.0       5.0   12000000         6.0   \n",
       "...         ...        ...    ...       ...        ...         ...   \n",
       "187856    Other    3 Marla    3.0       3.0    2700000         3.0   \n",
       "189108    Other    3 Marla    2.0       2.0      14000         3.0   \n",
       "189288    Other    3 Marla    2.0       2.0      12000         3.0   \n",
       "189643    Other    5 Marla    5.0       4.0   14500000         5.0   \n",
       "189976    Other    5 Marla    4.0       3.0      37000         5.0   \n",
       "\n",
       "        price_per_marla  \n",
       "17         2.777778e+06  \n",
       "20         3.636364e+06  \n",
       "34         4.769231e+06  \n",
       "35         2.200000e+06  \n",
       "42         2.000000e+06  \n",
       "...                 ...  \n",
       "187856     9.000000e+05  \n",
       "189108     4.666667e+03  \n",
       "189288     4.000000e+03  \n",
       "189643     2.900000e+06  \n",
       "189976     7.400000e+03  \n",
       "\n",
       "[1388 rows x 7 columns]"
      ]
     },
     "execution_count": 22,
     "metadata": {},
     "output_type": "execute_result"
    }
   ],
   "source": [
    "df_lahore_6[df_lahore_6.location == 'Other']"
   ]
  },
  {
   "cell_type": "code",
   "execution_count": 23,
   "id": "98e04705-ef49-4887-bd89-92b754da4608",
   "metadata": {},
   "outputs": [
    {
     "data": {
      "text/plain": [
       "(392, 593)"
      ]
     },
     "execution_count": 23,
     "metadata": {},
     "output_type": "execute_result"
    }
   ],
   "source": [
    "len(loc_stats[loc_stats <= 10]), df_lahore_5.location.nunique()"
   ]
  },
  {
   "cell_type": "markdown",
   "id": "263874d9-0d07-46d4-a64f-63b77575d525",
   "metadata": {},
   "source": [
    "This shows that now we have eliminated many locations for our one hot encoding process"
   ]
  },
  {
   "cell_type": "markdown",
   "id": "59967499-27e8-4f8a-80b0-4053f667eccb",
   "metadata": {},
   "source": [
    "## 2. Creating & Concatenating Dummies"
   ]
  },
  {
   "cell_type": "code",
   "execution_count": 24,
   "id": "66f7f665-5080-4d8e-9084-3b01c071e362",
   "metadata": {},
   "outputs": [
    {
     "data": {
      "text/html": [
       "<div>\n",
       "<style scoped>\n",
       "    .dataframe tbody tr th:only-of-type {\n",
       "        vertical-align: middle;\n",
       "    }\n",
       "\n",
       "    .dataframe tbody tr th {\n",
       "        vertical-align: top;\n",
       "    }\n",
       "\n",
       "    .dataframe thead th {\n",
       "        text-align: right;\n",
       "    }\n",
       "</style>\n",
       "<table border=\"1\" class=\"dataframe\">\n",
       "  <thead>\n",
       "    <tr style=\"text-align: right;\">\n",
       "      <th></th>\n",
       "      <th>location</th>\n",
       "      <th>area</th>\n",
       "      <th>baths</th>\n",
       "      <th>bedrooms</th>\n",
       "      <th>price</th>\n",
       "      <th>area_marla</th>\n",
       "      <th>price_per_marla</th>\n",
       "      <th>AWT Army Welfare Trust</th>\n",
       "      <th>Aashiana Road</th>\n",
       "      <th>Abdalians Cooperative Housing Society</th>\n",
       "      <th>...</th>\n",
       "      <th>Tricon Village</th>\n",
       "      <th>UET Housing Society</th>\n",
       "      <th>Upper Mall</th>\n",
       "      <th>Valencia Housing Society</th>\n",
       "      <th>Wahdat Road</th>\n",
       "      <th>Walled City</th>\n",
       "      <th>Walton Road</th>\n",
       "      <th>Wapda Town</th>\n",
       "      <th>Zaheer Villas</th>\n",
       "      <th>Zaitoon - New Lahore City</th>\n",
       "    </tr>\n",
       "  </thead>\n",
       "  <tbody>\n",
       "    <tr>\n",
       "      <th>1</th>\n",
       "      <td>Multan Road</td>\n",
       "      <td>1 Kanal</td>\n",
       "      <td>5.0</td>\n",
       "      <td>5.0</td>\n",
       "      <td>40000000</td>\n",
       "      <td>20.0</td>\n",
       "      <td>2.000000e+06</td>\n",
       "      <td>0</td>\n",
       "      <td>0</td>\n",
       "      <td>0</td>\n",
       "      <td>...</td>\n",
       "      <td>0</td>\n",
       "      <td>0</td>\n",
       "      <td>0</td>\n",
       "      <td>0</td>\n",
       "      <td>0</td>\n",
       "      <td>0</td>\n",
       "      <td>0</td>\n",
       "      <td>0</td>\n",
       "      <td>0</td>\n",
       "      <td>0</td>\n",
       "    </tr>\n",
       "    <tr>\n",
       "      <th>5</th>\n",
       "      <td>Gulberg</td>\n",
       "      <td>1 Kanal</td>\n",
       "      <td>6.0</td>\n",
       "      <td>5.0</td>\n",
       "      <td>52000000</td>\n",
       "      <td>20.0</td>\n",
       "      <td>2.600000e+06</td>\n",
       "      <td>0</td>\n",
       "      <td>0</td>\n",
       "      <td>0</td>\n",
       "      <td>...</td>\n",
       "      <td>0</td>\n",
       "      <td>0</td>\n",
       "      <td>0</td>\n",
       "      <td>0</td>\n",
       "      <td>0</td>\n",
       "      <td>0</td>\n",
       "      <td>0</td>\n",
       "      <td>0</td>\n",
       "      <td>0</td>\n",
       "      <td>0</td>\n",
       "    </tr>\n",
       "    <tr>\n",
       "      <th>6</th>\n",
       "      <td>Military Accounts Housing Society</td>\n",
       "      <td>8 Marla</td>\n",
       "      <td>7.0</td>\n",
       "      <td>6.0</td>\n",
       "      <td>16500000</td>\n",
       "      <td>8.0</td>\n",
       "      <td>2.062500e+06</td>\n",
       "      <td>0</td>\n",
       "      <td>0</td>\n",
       "      <td>0</td>\n",
       "      <td>...</td>\n",
       "      <td>0</td>\n",
       "      <td>0</td>\n",
       "      <td>0</td>\n",
       "      <td>0</td>\n",
       "      <td>0</td>\n",
       "      <td>0</td>\n",
       "      <td>0</td>\n",
       "      <td>0</td>\n",
       "      <td>0</td>\n",
       "      <td>0</td>\n",
       "    </tr>\n",
       "    <tr>\n",
       "      <th>10</th>\n",
       "      <td>Eden</td>\n",
       "      <td>7.5 Marla</td>\n",
       "      <td>4.0</td>\n",
       "      <td>4.0</td>\n",
       "      <td>13500000</td>\n",
       "      <td>7.5</td>\n",
       "      <td>1.800000e+06</td>\n",
       "      <td>0</td>\n",
       "      <td>0</td>\n",
       "      <td>0</td>\n",
       "      <td>...</td>\n",
       "      <td>0</td>\n",
       "      <td>0</td>\n",
       "      <td>0</td>\n",
       "      <td>0</td>\n",
       "      <td>0</td>\n",
       "      <td>0</td>\n",
       "      <td>0</td>\n",
       "      <td>0</td>\n",
       "      <td>0</td>\n",
       "      <td>0</td>\n",
       "    </tr>\n",
       "    <tr>\n",
       "      <th>11</th>\n",
       "      <td>Upper Mall</td>\n",
       "      <td>1.2 Kanal</td>\n",
       "      <td>5.0</td>\n",
       "      <td>4.0</td>\n",
       "      <td>87500000</td>\n",
       "      <td>24.0</td>\n",
       "      <td>3.645833e+06</td>\n",
       "      <td>0</td>\n",
       "      <td>0</td>\n",
       "      <td>0</td>\n",
       "      <td>...</td>\n",
       "      <td>0</td>\n",
       "      <td>0</td>\n",
       "      <td>1</td>\n",
       "      <td>0</td>\n",
       "      <td>0</td>\n",
       "      <td>0</td>\n",
       "      <td>0</td>\n",
       "      <td>0</td>\n",
       "      <td>0</td>\n",
       "      <td>0</td>\n",
       "    </tr>\n",
       "  </tbody>\n",
       "</table>\n",
       "<p>5 rows × 209 columns</p>\n",
       "</div>"
      ],
      "text/plain": [
       "                             location       area  baths  bedrooms     price  \\\n",
       "1                         Multan Road    1 Kanal    5.0       5.0  40000000   \n",
       "5                             Gulberg    1 Kanal    6.0       5.0  52000000   \n",
       "6   Military Accounts Housing Society    8 Marla    7.0       6.0  16500000   \n",
       "10                               Eden  7.5 Marla    4.0       4.0  13500000   \n",
       "11                         Upper Mall  1.2 Kanal    5.0       4.0  87500000   \n",
       "\n",
       "    area_marla  price_per_marla  AWT Army Welfare Trust  Aashiana Road  \\\n",
       "1         20.0     2.000000e+06                       0              0   \n",
       "5         20.0     2.600000e+06                       0              0   \n",
       "6          8.0     2.062500e+06                       0              0   \n",
       "10         7.5     1.800000e+06                       0              0   \n",
       "11        24.0     3.645833e+06                       0              0   \n",
       "\n",
       "    Abdalians Cooperative Housing Society  ...  Tricon Village  \\\n",
       "1                                       0  ...               0   \n",
       "5                                       0  ...               0   \n",
       "6                                       0  ...               0   \n",
       "10                                      0  ...               0   \n",
       "11                                      0  ...               0   \n",
       "\n",
       "    UET Housing Society  Upper Mall  Valencia Housing Society  Wahdat Road  \\\n",
       "1                     0           0                         0            0   \n",
       "5                     0           0                         0            0   \n",
       "6                     0           0                         0            0   \n",
       "10                    0           0                         0            0   \n",
       "11                    0           1                         0            0   \n",
       "\n",
       "    Walled City  Walton Road  Wapda Town  Zaheer Villas  \\\n",
       "1             0            0           0              0   \n",
       "5             0            0           0              0   \n",
       "6             0            0           0              0   \n",
       "10            0            0           0              0   \n",
       "11            0            0           0              0   \n",
       "\n",
       "    Zaitoon - New Lahore City  \n",
       "1                           0  \n",
       "5                           0  \n",
       "6                           0  \n",
       "10                          0  \n",
       "11                          0  \n",
       "\n",
       "[5 rows x 209 columns]"
      ]
     },
     "execution_count": 24,
     "metadata": {},
     "output_type": "execute_result"
    }
   ],
   "source": [
    "df_lahore_7 = pd.concat([df_lahore_6, pd.get_dummies(df_lahore_6.location)], axis='columns')\n",
    "df_lahore_7.replace({\n",
    "    True : 1,\n",
    "    False : 0\n",
    "}, inplace=True)\n",
    "df_lahore_7.head()"
   ]
  },
  {
   "cell_type": "markdown",
   "id": "9f15ab25-729d-4b5a-af34-2118944ac312",
   "metadata": {},
   "source": [
    "We replaced True with 1 and False with 0 here"
   ]
  },
  {
   "cell_type": "markdown",
   "id": "f3c5dd8c-4c12-48d6-b92b-ab9ca27265d6",
   "metadata": {},
   "source": [
    "## 3. Dropping unwanted columns"
   ]
  },
  {
   "cell_type": "code",
   "execution_count": 25,
   "id": "ac1dfb68-6b4b-401d-b1ef-6b1f1a5d3214",
   "metadata": {},
   "outputs": [
    {
     "data": {
      "text/html": [
       "<div>\n",
       "<style scoped>\n",
       "    .dataframe tbody tr th:only-of-type {\n",
       "        vertical-align: middle;\n",
       "    }\n",
       "\n",
       "    .dataframe tbody tr th {\n",
       "        vertical-align: top;\n",
       "    }\n",
       "\n",
       "    .dataframe thead th {\n",
       "        text-align: right;\n",
       "    }\n",
       "</style>\n",
       "<table border=\"1\" class=\"dataframe\">\n",
       "  <thead>\n",
       "    <tr style=\"text-align: right;\">\n",
       "      <th></th>\n",
       "      <th>baths</th>\n",
       "      <th>bedrooms</th>\n",
       "      <th>price</th>\n",
       "      <th>area_marla</th>\n",
       "      <th>AWT Army Welfare Trust</th>\n",
       "      <th>Aashiana Road</th>\n",
       "      <th>Abdalians Cooperative Housing Society</th>\n",
       "      <th>Airline Housing Society</th>\n",
       "      <th>Airport Road</th>\n",
       "      <th>Al Faisal Town</th>\n",
       "      <th>...</th>\n",
       "      <th>Tricon Village</th>\n",
       "      <th>UET Housing Society</th>\n",
       "      <th>Upper Mall</th>\n",
       "      <th>Valencia Housing Society</th>\n",
       "      <th>Wahdat Road</th>\n",
       "      <th>Walled City</th>\n",
       "      <th>Walton Road</th>\n",
       "      <th>Wapda Town</th>\n",
       "      <th>Zaheer Villas</th>\n",
       "      <th>Zaitoon - New Lahore City</th>\n",
       "    </tr>\n",
       "  </thead>\n",
       "  <tbody>\n",
       "    <tr>\n",
       "      <th>1</th>\n",
       "      <td>5.0</td>\n",
       "      <td>5.0</td>\n",
       "      <td>40000000</td>\n",
       "      <td>20.0</td>\n",
       "      <td>0</td>\n",
       "      <td>0</td>\n",
       "      <td>0</td>\n",
       "      <td>0</td>\n",
       "      <td>0</td>\n",
       "      <td>0</td>\n",
       "      <td>...</td>\n",
       "      <td>0</td>\n",
       "      <td>0</td>\n",
       "      <td>0</td>\n",
       "      <td>0</td>\n",
       "      <td>0</td>\n",
       "      <td>0</td>\n",
       "      <td>0</td>\n",
       "      <td>0</td>\n",
       "      <td>0</td>\n",
       "      <td>0</td>\n",
       "    </tr>\n",
       "    <tr>\n",
       "      <th>5</th>\n",
       "      <td>6.0</td>\n",
       "      <td>5.0</td>\n",
       "      <td>52000000</td>\n",
       "      <td>20.0</td>\n",
       "      <td>0</td>\n",
       "      <td>0</td>\n",
       "      <td>0</td>\n",
       "      <td>0</td>\n",
       "      <td>0</td>\n",
       "      <td>0</td>\n",
       "      <td>...</td>\n",
       "      <td>0</td>\n",
       "      <td>0</td>\n",
       "      <td>0</td>\n",
       "      <td>0</td>\n",
       "      <td>0</td>\n",
       "      <td>0</td>\n",
       "      <td>0</td>\n",
       "      <td>0</td>\n",
       "      <td>0</td>\n",
       "      <td>0</td>\n",
       "    </tr>\n",
       "    <tr>\n",
       "      <th>6</th>\n",
       "      <td>7.0</td>\n",
       "      <td>6.0</td>\n",
       "      <td>16500000</td>\n",
       "      <td>8.0</td>\n",
       "      <td>0</td>\n",
       "      <td>0</td>\n",
       "      <td>0</td>\n",
       "      <td>0</td>\n",
       "      <td>0</td>\n",
       "      <td>0</td>\n",
       "      <td>...</td>\n",
       "      <td>0</td>\n",
       "      <td>0</td>\n",
       "      <td>0</td>\n",
       "      <td>0</td>\n",
       "      <td>0</td>\n",
       "      <td>0</td>\n",
       "      <td>0</td>\n",
       "      <td>0</td>\n",
       "      <td>0</td>\n",
       "      <td>0</td>\n",
       "    </tr>\n",
       "    <tr>\n",
       "      <th>10</th>\n",
       "      <td>4.0</td>\n",
       "      <td>4.0</td>\n",
       "      <td>13500000</td>\n",
       "      <td>7.5</td>\n",
       "      <td>0</td>\n",
       "      <td>0</td>\n",
       "      <td>0</td>\n",
       "      <td>0</td>\n",
       "      <td>0</td>\n",
       "      <td>0</td>\n",
       "      <td>...</td>\n",
       "      <td>0</td>\n",
       "      <td>0</td>\n",
       "      <td>0</td>\n",
       "      <td>0</td>\n",
       "      <td>0</td>\n",
       "      <td>0</td>\n",
       "      <td>0</td>\n",
       "      <td>0</td>\n",
       "      <td>0</td>\n",
       "      <td>0</td>\n",
       "    </tr>\n",
       "    <tr>\n",
       "      <th>11</th>\n",
       "      <td>5.0</td>\n",
       "      <td>4.0</td>\n",
       "      <td>87500000</td>\n",
       "      <td>24.0</td>\n",
       "      <td>0</td>\n",
       "      <td>0</td>\n",
       "      <td>0</td>\n",
       "      <td>0</td>\n",
       "      <td>0</td>\n",
       "      <td>0</td>\n",
       "      <td>...</td>\n",
       "      <td>0</td>\n",
       "      <td>0</td>\n",
       "      <td>1</td>\n",
       "      <td>0</td>\n",
       "      <td>0</td>\n",
       "      <td>0</td>\n",
       "      <td>0</td>\n",
       "      <td>0</td>\n",
       "      <td>0</td>\n",
       "      <td>0</td>\n",
       "    </tr>\n",
       "  </tbody>\n",
       "</table>\n",
       "<p>5 rows × 205 columns</p>\n",
       "</div>"
      ],
      "text/plain": [
       "    baths  bedrooms     price  area_marla  AWT Army Welfare Trust  \\\n",
       "1     5.0       5.0  40000000        20.0                       0   \n",
       "5     6.0       5.0  52000000        20.0                       0   \n",
       "6     7.0       6.0  16500000         8.0                       0   \n",
       "10    4.0       4.0  13500000         7.5                       0   \n",
       "11    5.0       4.0  87500000        24.0                       0   \n",
       "\n",
       "    Aashiana Road  Abdalians Cooperative Housing Society  \\\n",
       "1               0                                      0   \n",
       "5               0                                      0   \n",
       "6               0                                      0   \n",
       "10              0                                      0   \n",
       "11              0                                      0   \n",
       "\n",
       "    Airline Housing Society  Airport Road  Al Faisal Town  ...  \\\n",
       "1                         0             0               0  ...   \n",
       "5                         0             0               0  ...   \n",
       "6                         0             0               0  ...   \n",
       "10                        0             0               0  ...   \n",
       "11                        0             0               0  ...   \n",
       "\n",
       "    Tricon Village  UET Housing Society  Upper Mall  Valencia Housing Society  \\\n",
       "1                0                    0           0                         0   \n",
       "5                0                    0           0                         0   \n",
       "6                0                    0           0                         0   \n",
       "10               0                    0           0                         0   \n",
       "11               0                    0           1                         0   \n",
       "\n",
       "    Wahdat Road  Walled City  Walton Road  Wapda Town  Zaheer Villas  \\\n",
       "1             0            0            0           0              0   \n",
       "5             0            0            0           0              0   \n",
       "6             0            0            0           0              0   \n",
       "10            0            0            0           0              0   \n",
       "11            0            0            0           0              0   \n",
       "\n",
       "    Zaitoon - New Lahore City  \n",
       "1                           0  \n",
       "5                           0  \n",
       "6                           0  \n",
       "10                          0  \n",
       "11                          0  \n",
       "\n",
       "[5 rows x 205 columns]"
      ]
     },
     "execution_count": 25,
     "metadata": {},
     "output_type": "execute_result"
    }
   ],
   "source": [
    "df_lahore_8 = df_lahore_7.drop(['location', 'Other', 'area', 'price_per_marla'], axis='columns')\n",
    "df_lahore_8.head()"
   ]
  },
  {
   "cell_type": "markdown",
   "id": "d001ef49-2eb0-456d-a735-2c8cf59aacb1",
   "metadata": {},
   "source": [
    "Now we have dropped all those columns which will not be used further.\n",
    "<br>Meanwhile we also dropped Other column so that we can avoid dummy trap. Although sklearn deals with dummy trap but it is a good practice"
   ]
  },
  {
   "cell_type": "markdown",
   "id": "b709c7f3-7648-4134-b45d-af029771ca81",
   "metadata": {},
   "source": [
    "***"
   ]
  },
  {
   "cell_type": "markdown",
   "id": "47c6327e-cd32-4cbe-84b1-3dabfd56ddd9",
   "metadata": {},
   "source": [
    "<h1 style='text-align:center;'>Train Test Split</h1>"
   ]
  },
  {
   "cell_type": "code",
   "execution_count": 26,
   "id": "e3ac2990-daaa-4eec-ace3-bb3358d52649",
   "metadata": {},
   "outputs": [],
   "source": [
    "X = df_lahore_8.drop(['price'], axis='columns')\n",
    "y = df_lahore_8.price"
   ]
  },
  {
   "cell_type": "code",
   "execution_count": 48,
   "id": "09bb0a36-562d-4f64-b707-0c652e4a5772",
   "metadata": {},
   "outputs": [],
   "source": [
    "from sklearn.model_selection import train_test_split\n",
    "X_train, X_test, y_train, y_test = train_test_split(X, y, train_size=0.75)"
   ]
  },
  {
   "cell_type": "markdown",
   "id": "20948586-2fc5-45e7-b5a5-a42681fd0924",
   "metadata": {},
   "source": [
    "We have kept 75% data for training and 35% for testing"
   ]
  },
  {
   "cell_type": "markdown",
   "id": "626652a5-c25f-4c9a-b4cd-3e945c774324",
   "metadata": {},
   "source": [
    "***"
   ]
  },
  {
   "cell_type": "markdown",
   "id": "d54d0224-34f5-404c-91b7-2874b1b5d4b8",
   "metadata": {},
   "source": [
    "<h1 style='text-align:center;'>Determining Best Algorithm</h1>"
   ]
  },
  {
   "cell_type": "code",
   "execution_count": 28,
   "id": "f4cc8e28-2b71-4a56-a577-739adc369894",
   "metadata": {},
   "outputs": [],
   "source": [
    "from sklearn.linear_model import LinearRegression\n",
    "from sklearn.linear_model import Lasso\n",
    "from sklearn.tree import DecisionTreeRegressor\n",
    "from sklearn.model_selection import GridSearchCV"
   ]
  },
  {
   "cell_type": "markdown",
   "id": "748da57a-9b38-464c-8ed1-2feba3b5edc5",
   "metadata": {},
   "source": [
    "Using this dictionary below and then GridSearchCV, we can determine which algorithm is best for us alongside the best parameters."
   ]
  },
  {
   "cell_type": "code",
   "execution_count": 29,
   "id": "3d356a0d-d513-4372-ae69-6042942e1fbb",
   "metadata": {},
   "outputs": [],
   "source": [
    "algos = {\n",
    "    'LinearRegression' : {\n",
    "        'model' : LinearRegression(),\n",
    "        'params' : {}\n",
    "    },\n",
    "    'Lasso' : {\n",
    "        'model' : Lasso(),\n",
    "        'params' : {\n",
    "            'alpha': [1, 2],\n",
    "            'selection' : ['cyclic', 'random']\n",
    "        }\n",
    "    },\n",
    "    'DecisionTreeRegressor' : {\n",
    "        'model' : DecisionTreeRegressor(),\n",
    "        'params' : {\n",
    "            'criterion' : ['squared_error', 'mse', 'friedman_mse'],\n",
    "            'splitter' : ['best', 'random']\n",
    "        }\n",
    "    }\n",
    "}"
   ]
  },
  {
   "cell_type": "markdown",
   "id": "2deee0f4-f30d-4e40-a8e2-9d255a9e98b0",
   "metadata": {},
   "source": [
    "We ran the below cell multiple times alongside the cell in which we used the train_test_split function.\n",
    "<br>This is because train_test_split after each run changes the samples we used for training and testing since it selects them randomly"
   ]
  },
  {
   "cell_type": "code",
   "execution_count": 49,
   "id": "2cb522df-f1fd-40af-a724-793168f1e31a",
   "metadata": {},
   "outputs": [
    {
     "data": {
      "text/html": [
       "<div>\n",
       "<style scoped>\n",
       "    .dataframe tbody tr th:only-of-type {\n",
       "        vertical-align: middle;\n",
       "    }\n",
       "\n",
       "    .dataframe tbody tr th {\n",
       "        vertical-align: top;\n",
       "    }\n",
       "\n",
       "    .dataframe thead th {\n",
       "        text-align: right;\n",
       "    }\n",
       "</style>\n",
       "<table border=\"1\" class=\"dataframe\">\n",
       "  <thead>\n",
       "    <tr style=\"text-align: right;\">\n",
       "      <th></th>\n",
       "      <th>model</th>\n",
       "      <th>best_score</th>\n",
       "      <th>best_params</th>\n",
       "    </tr>\n",
       "  </thead>\n",
       "  <tbody>\n",
       "    <tr>\n",
       "      <th>0</th>\n",
       "      <td>LinearRegression</td>\n",
       "      <td>0.629252</td>\n",
       "      <td>{}</td>\n",
       "    </tr>\n",
       "    <tr>\n",
       "      <th>1</th>\n",
       "      <td>Lasso</td>\n",
       "      <td>0.629255</td>\n",
       "      <td>{'alpha': 2, 'selection': 'cyclic'}</td>\n",
       "    </tr>\n",
       "    <tr>\n",
       "      <th>2</th>\n",
       "      <td>DecisionTreeRegressor</td>\n",
       "      <td>0.834318</td>\n",
       "      <td>{'criterion': 'squared_error', 'splitter': 'ra...</td>\n",
       "    </tr>\n",
       "  </tbody>\n",
       "</table>\n",
       "</div>"
      ],
      "text/plain": [
       "                   model  best_score  \\\n",
       "0       LinearRegression    0.629252   \n",
       "1                  Lasso    0.629255   \n",
       "2  DecisionTreeRegressor    0.834318   \n",
       "\n",
       "                                         best_params  \n",
       "0                                                 {}  \n",
       "1                {'alpha': 2, 'selection': 'cyclic'}  \n",
       "2  {'criterion': 'squared_error', 'splitter': 'ra...  "
      ]
     },
     "execution_count": 49,
     "metadata": {},
     "output_type": "execute_result"
    }
   ],
   "source": [
    "df_algos = []\n",
    "\n",
    "for algo_name, algo_info in algos.items():\n",
    "    gs = GridSearchCV(algo_info.get('model'), algo_info.get('params'), cv=5)\n",
    "    gs.fit(X_train, y_train)\n",
    "    df_algos.append({\n",
    "        'model' : algo_name,\n",
    "        'best_score' : gs.best_score_,\n",
    "        'best_params' : gs.best_params_,\n",
    "    })\n",
    "\n",
    "pd.DataFrame(df_algos)"
   ]
  },
  {
   "cell_type": "markdown",
   "id": "459cbace-1f80-467f-96c9-5eaaf1a2a02c",
   "metadata": {},
   "source": [
    "After multiple excutions we noticed that the best score we obtained was 83.4%\n",
    "<br>**Note:** In Machine Learning a score above 70% is considered a good score."
   ]
  },
  {
   "cell_type": "markdown",
   "id": "bbb109b8-8249-4c02-9b06-a0246d47aece",
   "metadata": {},
   "source": [
    "***"
   ]
  },
  {
   "cell_type": "markdown",
   "id": "83337a7e-b09b-48ee-a175-b6fc5dab5a58",
   "metadata": {},
   "source": [
    "<h1 style='text-align:center;'>Creating Model</h1>"
   ]
  },
  {
   "cell_type": "code",
   "execution_count": 50,
   "id": "dccebf77-dcdc-436e-b026-ce33b8af38e9",
   "metadata": {},
   "outputs": [
    {
     "data": {
      "text/html": [
       "<style>#sk-container-id-2 {color: black;}#sk-container-id-2 pre{padding: 0;}#sk-container-id-2 div.sk-toggleable {background-color: white;}#sk-container-id-2 label.sk-toggleable__label {cursor: pointer;display: block;width: 100%;margin-bottom: 0;padding: 0.3em;box-sizing: border-box;text-align: center;}#sk-container-id-2 label.sk-toggleable__label-arrow:before {content: \"▸\";float: left;margin-right: 0.25em;color: #696969;}#sk-container-id-2 label.sk-toggleable__label-arrow:hover:before {color: black;}#sk-container-id-2 div.sk-estimator:hover label.sk-toggleable__label-arrow:before {color: black;}#sk-container-id-2 div.sk-toggleable__content {max-height: 0;max-width: 0;overflow: hidden;text-align: left;background-color: #f0f8ff;}#sk-container-id-2 div.sk-toggleable__content pre {margin: 0.2em;color: black;border-radius: 0.25em;background-color: #f0f8ff;}#sk-container-id-2 input.sk-toggleable__control:checked~div.sk-toggleable__content {max-height: 200px;max-width: 100%;overflow: auto;}#sk-container-id-2 input.sk-toggleable__control:checked~label.sk-toggleable__label-arrow:before {content: \"▾\";}#sk-container-id-2 div.sk-estimator input.sk-toggleable__control:checked~label.sk-toggleable__label {background-color: #d4ebff;}#sk-container-id-2 div.sk-label input.sk-toggleable__control:checked~label.sk-toggleable__label {background-color: #d4ebff;}#sk-container-id-2 input.sk-hidden--visually {border: 0;clip: rect(1px 1px 1px 1px);clip: rect(1px, 1px, 1px, 1px);height: 1px;margin: -1px;overflow: hidden;padding: 0;position: absolute;width: 1px;}#sk-container-id-2 div.sk-estimator {font-family: monospace;background-color: #f0f8ff;border: 1px dotted black;border-radius: 0.25em;box-sizing: border-box;margin-bottom: 0.5em;}#sk-container-id-2 div.sk-estimator:hover {background-color: #d4ebff;}#sk-container-id-2 div.sk-parallel-item::after {content: \"\";width: 100%;border-bottom: 1px solid gray;flex-grow: 1;}#sk-container-id-2 div.sk-label:hover label.sk-toggleable__label {background-color: #d4ebff;}#sk-container-id-2 div.sk-serial::before {content: \"\";position: absolute;border-left: 1px solid gray;box-sizing: border-box;top: 0;bottom: 0;left: 50%;z-index: 0;}#sk-container-id-2 div.sk-serial {display: flex;flex-direction: column;align-items: center;background-color: white;padding-right: 0.2em;padding-left: 0.2em;position: relative;}#sk-container-id-2 div.sk-item {position: relative;z-index: 1;}#sk-container-id-2 div.sk-parallel {display: flex;align-items: stretch;justify-content: center;background-color: white;position: relative;}#sk-container-id-2 div.sk-item::before, #sk-container-id-2 div.sk-parallel-item::before {content: \"\";position: absolute;border-left: 1px solid gray;box-sizing: border-box;top: 0;bottom: 0;left: 50%;z-index: -1;}#sk-container-id-2 div.sk-parallel-item {display: flex;flex-direction: column;z-index: 1;position: relative;background-color: white;}#sk-container-id-2 div.sk-parallel-item:first-child::after {align-self: flex-end;width: 50%;}#sk-container-id-2 div.sk-parallel-item:last-child::after {align-self: flex-start;width: 50%;}#sk-container-id-2 div.sk-parallel-item:only-child::after {width: 0;}#sk-container-id-2 div.sk-dashed-wrapped {border: 1px dashed gray;margin: 0 0.4em 0.5em 0.4em;box-sizing: border-box;padding-bottom: 0.4em;background-color: white;}#sk-container-id-2 div.sk-label label {font-family: monospace;font-weight: bold;display: inline-block;line-height: 1.2em;}#sk-container-id-2 div.sk-label-container {text-align: center;}#sk-container-id-2 div.sk-container {/* jupyter's `normalize.less` sets `[hidden] { display: none; }` but bootstrap.min.css set `[hidden] { display: none !important; }` so we also need the `!important` here to be able to override the default hidden behavior on the sphinx rendered scikit-learn.org. See: https://github.com/scikit-learn/scikit-learn/issues/21755 */display: inline-block !important;position: relative;}#sk-container-id-2 div.sk-text-repr-fallback {display: none;}</style><div id=\"sk-container-id-2\" class=\"sk-top-container\"><div class=\"sk-text-repr-fallback\"><pre>DecisionTreeRegressor(criterion=&#x27;friedman_mse&#x27;)</pre><b>In a Jupyter environment, please rerun this cell to show the HTML representation or trust the notebook. <br />On GitHub, the HTML representation is unable to render, please try loading this page with nbviewer.org.</b></div><div class=\"sk-container\" hidden><div class=\"sk-item\"><div class=\"sk-estimator sk-toggleable\"><input class=\"sk-toggleable__control sk-hidden--visually\" id=\"sk-estimator-id-2\" type=\"checkbox\" checked><label for=\"sk-estimator-id-2\" class=\"sk-toggleable__label sk-toggleable__label-arrow\">DecisionTreeRegressor</label><div class=\"sk-toggleable__content\"><pre>DecisionTreeRegressor(criterion=&#x27;friedman_mse&#x27;)</pre></div></div></div></div></div>"
      ],
      "text/plain": [
       "DecisionTreeRegressor(criterion='friedman_mse')"
      ]
     },
     "execution_count": 50,
     "metadata": {},
     "output_type": "execute_result"
    }
   ],
   "source": [
    "dtr = DecisionTreeRegressor(criterion='friedman_mse', splitter='best')\n",
    "dtr.fit(X_train, y_train)"
   ]
  },
  {
   "cell_type": "code",
   "execution_count": 32,
   "id": "56b6eb65-6d8a-4bba-8136-704750be69bf",
   "metadata": {},
   "outputs": [
    {
     "data": {
      "text/html": [
       "<div>\n",
       "<style scoped>\n",
       "    .dataframe tbody tr th:only-of-type {\n",
       "        vertical-align: middle;\n",
       "    }\n",
       "\n",
       "    .dataframe tbody tr th {\n",
       "        vertical-align: top;\n",
       "    }\n",
       "\n",
       "    .dataframe thead th {\n",
       "        text-align: right;\n",
       "    }\n",
       "</style>\n",
       "<table border=\"1\" class=\"dataframe\">\n",
       "  <thead>\n",
       "    <tr style=\"text-align: right;\">\n",
       "      <th></th>\n",
       "      <th>baths</th>\n",
       "      <th>bedrooms</th>\n",
       "      <th>area_marla</th>\n",
       "      <th>AWT Army Welfare Trust</th>\n",
       "      <th>Aashiana Road</th>\n",
       "      <th>Abdalians Cooperative Housing Society</th>\n",
       "      <th>Airline Housing Society</th>\n",
       "      <th>Airport Road</th>\n",
       "      <th>Al Faisal Town</th>\n",
       "      <th>Al Hafeez Gardens</th>\n",
       "      <th>...</th>\n",
       "      <th>Tricon Village</th>\n",
       "      <th>UET Housing Society</th>\n",
       "      <th>Upper Mall</th>\n",
       "      <th>Valencia Housing Society</th>\n",
       "      <th>Wahdat Road</th>\n",
       "      <th>Walled City</th>\n",
       "      <th>Walton Road</th>\n",
       "      <th>Wapda Town</th>\n",
       "      <th>Zaheer Villas</th>\n",
       "      <th>Zaitoon - New Lahore City</th>\n",
       "    </tr>\n",
       "  </thead>\n",
       "  <tbody>\n",
       "    <tr>\n",
       "      <th>1</th>\n",
       "      <td>5.0</td>\n",
       "      <td>5.0</td>\n",
       "      <td>20.0</td>\n",
       "      <td>0</td>\n",
       "      <td>0</td>\n",
       "      <td>0</td>\n",
       "      <td>0</td>\n",
       "      <td>0</td>\n",
       "      <td>0</td>\n",
       "      <td>0</td>\n",
       "      <td>...</td>\n",
       "      <td>0</td>\n",
       "      <td>0</td>\n",
       "      <td>0</td>\n",
       "      <td>0</td>\n",
       "      <td>0</td>\n",
       "      <td>0</td>\n",
       "      <td>0</td>\n",
       "      <td>0</td>\n",
       "      <td>0</td>\n",
       "      <td>0</td>\n",
       "    </tr>\n",
       "    <tr>\n",
       "      <th>5</th>\n",
       "      <td>6.0</td>\n",
       "      <td>5.0</td>\n",
       "      <td>20.0</td>\n",
       "      <td>0</td>\n",
       "      <td>0</td>\n",
       "      <td>0</td>\n",
       "      <td>0</td>\n",
       "      <td>0</td>\n",
       "      <td>0</td>\n",
       "      <td>0</td>\n",
       "      <td>...</td>\n",
       "      <td>0</td>\n",
       "      <td>0</td>\n",
       "      <td>0</td>\n",
       "      <td>0</td>\n",
       "      <td>0</td>\n",
       "      <td>0</td>\n",
       "      <td>0</td>\n",
       "      <td>0</td>\n",
       "      <td>0</td>\n",
       "      <td>0</td>\n",
       "    </tr>\n",
       "    <tr>\n",
       "      <th>6</th>\n",
       "      <td>7.0</td>\n",
       "      <td>6.0</td>\n",
       "      <td>8.0</td>\n",
       "      <td>0</td>\n",
       "      <td>0</td>\n",
       "      <td>0</td>\n",
       "      <td>0</td>\n",
       "      <td>0</td>\n",
       "      <td>0</td>\n",
       "      <td>0</td>\n",
       "      <td>...</td>\n",
       "      <td>0</td>\n",
       "      <td>0</td>\n",
       "      <td>0</td>\n",
       "      <td>0</td>\n",
       "      <td>0</td>\n",
       "      <td>0</td>\n",
       "      <td>0</td>\n",
       "      <td>0</td>\n",
       "      <td>0</td>\n",
       "      <td>0</td>\n",
       "    </tr>\n",
       "    <tr>\n",
       "      <th>10</th>\n",
       "      <td>4.0</td>\n",
       "      <td>4.0</td>\n",
       "      <td>7.5</td>\n",
       "      <td>0</td>\n",
       "      <td>0</td>\n",
       "      <td>0</td>\n",
       "      <td>0</td>\n",
       "      <td>0</td>\n",
       "      <td>0</td>\n",
       "      <td>0</td>\n",
       "      <td>...</td>\n",
       "      <td>0</td>\n",
       "      <td>0</td>\n",
       "      <td>0</td>\n",
       "      <td>0</td>\n",
       "      <td>0</td>\n",
       "      <td>0</td>\n",
       "      <td>0</td>\n",
       "      <td>0</td>\n",
       "      <td>0</td>\n",
       "      <td>0</td>\n",
       "    </tr>\n",
       "    <tr>\n",
       "      <th>11</th>\n",
       "      <td>5.0</td>\n",
       "      <td>4.0</td>\n",
       "      <td>24.0</td>\n",
       "      <td>0</td>\n",
       "      <td>0</td>\n",
       "      <td>0</td>\n",
       "      <td>0</td>\n",
       "      <td>0</td>\n",
       "      <td>0</td>\n",
       "      <td>0</td>\n",
       "      <td>...</td>\n",
       "      <td>0</td>\n",
       "      <td>0</td>\n",
       "      <td>1</td>\n",
       "      <td>0</td>\n",
       "      <td>0</td>\n",
       "      <td>0</td>\n",
       "      <td>0</td>\n",
       "      <td>0</td>\n",
       "      <td>0</td>\n",
       "      <td>0</td>\n",
       "    </tr>\n",
       "  </tbody>\n",
       "</table>\n",
       "<p>5 rows × 204 columns</p>\n",
       "</div>"
      ],
      "text/plain": [
       "    baths  bedrooms  area_marla  AWT Army Welfare Trust  Aashiana Road  \\\n",
       "1     5.0       5.0        20.0                       0              0   \n",
       "5     6.0       5.0        20.0                       0              0   \n",
       "6     7.0       6.0         8.0                       0              0   \n",
       "10    4.0       4.0         7.5                       0              0   \n",
       "11    5.0       4.0        24.0                       0              0   \n",
       "\n",
       "    Abdalians Cooperative Housing Society  Airline Housing Society  \\\n",
       "1                                       0                        0   \n",
       "5                                       0                        0   \n",
       "6                                       0                        0   \n",
       "10                                      0                        0   \n",
       "11                                      0                        0   \n",
       "\n",
       "    Airport Road  Al Faisal Town  Al Hafeez Gardens  ...  Tricon Village  \\\n",
       "1              0               0                  0  ...               0   \n",
       "5              0               0                  0  ...               0   \n",
       "6              0               0                  0  ...               0   \n",
       "10             0               0                  0  ...               0   \n",
       "11             0               0                  0  ...               0   \n",
       "\n",
       "    UET Housing Society  Upper Mall  Valencia Housing Society  Wahdat Road  \\\n",
       "1                     0           0                         0            0   \n",
       "5                     0           0                         0            0   \n",
       "6                     0           0                         0            0   \n",
       "10                    0           0                         0            0   \n",
       "11                    0           1                         0            0   \n",
       "\n",
       "    Walled City  Walton Road  Wapda Town  Zaheer Villas  \\\n",
       "1             0            0           0              0   \n",
       "5             0            0           0              0   \n",
       "6             0            0           0              0   \n",
       "10            0            0           0              0   \n",
       "11            0            0           0              0   \n",
       "\n",
       "    Zaitoon - New Lahore City  \n",
       "1                           0  \n",
       "5                           0  \n",
       "6                           0  \n",
       "10                          0  \n",
       "11                          0  \n",
       "\n",
       "[5 rows x 204 columns]"
      ]
     },
     "execution_count": 32,
     "metadata": {},
     "output_type": "execute_result"
    }
   ],
   "source": [
    "X.head()"
   ]
  },
  {
   "cell_type": "markdown",
   "id": "e99518c1-ea40-43a6-9881-fd4fc8070588",
   "metadata": {},
   "source": [
    "Here we created a function to predict the price of a house\n",
    "\n",
    "First it creates a numpy array of lenght same as number of columns in X dataframe\n",
    "\n",
    "Then we check whether the passed location is present in columns of X. If yes then we take the index column at which it is present, then we change the same index in numpy array to 1 which is a normal way of selecting a location in predict function. If the location was not present in X.columns (that is it was part of Other column), then we ignore it since all location indices in numpy array are 0 it is selected automatically.\n",
    "\n",
    "Then we assign the baths, bedrooms and area values in respective numpy array index\n",
    "\n",
    "In the end we predict the value and take the first index (which is the actual value we want)"
   ]
  },
  {
   "cell_type": "code",
   "execution_count": 51,
   "id": "3a97fda9-d982-4bd2-b077-31028b772e1c",
   "metadata": {},
   "outputs": [],
   "source": [
    "def predict_price(location, baths, bedrooms, area):\n",
    "    x = np.zeros(len(X.columns))\n",
    "    if area in X.columns:\n",
    "        loc_index = np.where(X.columns == location)[0][0]\n",
    "        x[loc_index] = 1\n",
    "\n",
    "    x[0] = baths\n",
    "    x[1] = bedrooms\n",
    "    x[2] = area\n",
    "\n",
    "    return dtr.predict([x])[0]"
   ]
  },
  {
   "cell_type": "markdown",
   "id": "6b5c3188-3278-43c4-8182-acceeb222fd5",
   "metadata": {},
   "source": [
    "Predicting price of house with location 'Walton Road' with 2 baths, 2 bedrooms and area 10 marla"
   ]
  },
  {
   "cell_type": "code",
   "execution_count": 52,
   "id": "135210de-9e18-4cdd-b7f9-ac2f655c9bb2",
   "metadata": {},
   "outputs": [
    {
     "data": {
      "text/plain": [
       "9343833.333333334"
      ]
     },
     "execution_count": 52,
     "metadata": {},
     "output_type": "execute_result"
    }
   ],
   "source": [
    "predict_price('Walton Road', 2, 2, 10)"
   ]
  },
  {
   "cell_type": "markdown",
   "id": "ac07ac8f-09db-4b69-9ae6-b546010348b5",
   "metadata": {},
   "source": [
    "Predicting price of house with location 'UET Housing Society' with 2 baths, 5 bedrooms and area 10 marla\n",
    "<br>We divide it by 100000 to get price in Lakhs"
   ]
  },
  {
   "cell_type": "code",
   "execution_count": 55,
   "id": "3dae3274-270f-45bf-b0a9-2dfcaf8dafc5",
   "metadata": {},
   "outputs": [
    {
     "data": {
      "text/plain": [
       "200.0"
      ]
     },
     "execution_count": 55,
     "metadata": {},
     "output_type": "execute_result"
    }
   ],
   "source": [
    "predict_price('UET Housing Society', 2, 5, 10) / 100000"
   ]
  },
  {
   "cell_type": "markdown",
   "id": "ec30a34a-439c-4d61-a3b5-e667065a6215",
   "metadata": {},
   "source": [
    "Now we can save our model in a seperate file using joblib"
   ]
  },
  {
   "cell_type": "markdown",
   "id": "bb365333-104b-40dd-af89-1bf7fd729bc9",
   "metadata": {},
   "source": [
    "***"
   ]
  },
  {
   "cell_type": "markdown",
   "id": "ff770d15-f7c9-4348-ac3d-b6bfc3ff394f",
   "metadata": {},
   "source": [
    "<h1 style='text-align:center;'>Saving Model to File</h1>"
   ]
  },
  {
   "cell_type": "code",
   "execution_count": 36,
   "id": "f2a5c23e-71fc-4d0a-a496-a50452e0c6ce",
   "metadata": {},
   "outputs": [],
   "source": [
    "import joblib"
   ]
  },
  {
   "cell_type": "code",
   "execution_count": 56,
   "id": "acb48ceb-f2a5-4a58-9d5f-9a15a201965d",
   "metadata": {},
   "outputs": [
    {
     "data": {
      "text/plain": [
       "['price_pred_model']"
      ]
     },
     "execution_count": 56,
     "metadata": {},
     "output_type": "execute_result"
    }
   ],
   "source": [
    "joblib.dump(dtr, 'price_pred_model')"
   ]
  },
  {
   "cell_type": "code",
   "execution_count": null,
   "id": "a14858d2-051e-4e0d-837c-50785809e4d2",
   "metadata": {},
   "outputs": [],
   "source": []
  },
  {
   "cell_type": "code",
   "execution_count": null,
   "id": "4a315af3-6f67-4554-b53e-85fbdced7a5c",
   "metadata": {},
   "outputs": [],
   "source": []
  },
  {
   "cell_type": "code",
   "execution_count": null,
   "id": "e4264c66-1bda-41e5-abfc-304df6bc0dcd",
   "metadata": {},
   "outputs": [],
   "source": []
  },
  {
   "cell_type": "code",
   "execution_count": null,
   "id": "b738162b-d976-4e0d-8053-f5f89e2b190b",
   "metadata": {},
   "outputs": [],
   "source": []
  },
  {
   "cell_type": "code",
   "execution_count": null,
   "id": "27b1008d-8b56-4a91-9e8d-efffe633f629",
   "metadata": {},
   "outputs": [],
   "source": []
  },
  {
   "cell_type": "code",
   "execution_count": null,
   "id": "1e39a170-3b11-4cdb-9575-097fc8c2dd66",
   "metadata": {},
   "outputs": [],
   "source": []
  },
  {
   "cell_type": "code",
   "execution_count": null,
   "id": "94779e84-cb01-4da1-ab54-277a5eaa7caf",
   "metadata": {},
   "outputs": [],
   "source": []
  },
  {
   "cell_type": "code",
   "execution_count": null,
   "id": "1a067cb2-a964-454f-bae5-559406af507f",
   "metadata": {},
   "outputs": [],
   "source": []
  }
 ],
 "metadata": {
  "kernelspec": {
   "display_name": "Python 3 (ipykernel)",
   "language": "python",
   "name": "python3"
  },
  "language_info": {
   "codemirror_mode": {
    "name": "ipython",
    "version": 3
   },
   "file_extension": ".py",
   "mimetype": "text/x-python",
   "name": "python",
   "nbconvert_exporter": "python",
   "pygments_lexer": "ipython3",
   "version": "3.11.1"
  }
 },
 "nbformat": 4,
 "nbformat_minor": 5
}
